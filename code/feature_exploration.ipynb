{
 "cells": [
  {
   "cell_type": "code",
   "execution_count": 3,
   "metadata": {
    "collapsed": false
   },
   "outputs": [
    {
     "data": {
      "image/png": "[encoded data removed]",
      "text/plain": [
       "<matplotlib.figure.Figure at 0x10a7a50d0>"
      ]
     },
     "metadata": {},
     "output_type": "display_data"
    }
   ],
   "source": [
    "#!/usr/bin/python\n",
    "# -*- coding: utf-8 -*-\n",
    "\n",
    "'''\n",
    "What Makes a Good Feature - Machine Learning Recipies #3\n",
    "December 15, 2016\n",
    "Coded by Meen Chul Kim\n",
    "\n",
    "Note:\n",
    "Good features are informative, independent, and simple.\n",
    "Avoid using redundant features (highly corrrelated).\n",
    "Simpler relationships are easy to learn.\n",
    "'''\n",
    "\n",
    "%matplotlib inline\n",
    "\n",
    "import numpy as np\n",
    "import matplotlib.pyplot as plt\n",
    "\n",
    "# Prepare toy data set of 1,000 dogs\n",
    "n_greyhounds = 500\n",
    "n_labs = 500\n",
    "\n",
    "# Randomize the height of each breed with normal dist.\n",
    "grey_height = 28 + 4 * np.random.randn(n_greyhounds) \n",
    "lab_height = 24 + 4 * np.random.randn(n_labs)\n",
    "\n",
    "# Histogram the dist. of heights\n",
    "plt.hist([grey_height, lab_height], stacked=True, color=['r', 'b'])\n",
    "plt.show()"
   ]
  },
  {
   "cell_type": "code",
   "execution_count": null,
   "metadata": {
    "collapsed": true
   },
   "outputs": [],
   "source": []
  }
 ],
 "metadata": {
  "anaconda-cloud": {},
  "kernelspec": {
   "display_name": "Python [conda root]",
   "language": "python",
   "name": "conda-root-py"
  },
  "language_info": {
   "codemirror_mode": {
    "name": "ipython",
    "version": 2
   },
   "file_extension": ".py",
   "mimetype": "text/x-python",
   "name": "python",
   "nbconvert_exporter": "python",
   "pygments_lexer": "ipython2",
   "version": "2.7.12"
  }
 },
 "nbformat": 4,
 "nbformat_minor": 1
}
