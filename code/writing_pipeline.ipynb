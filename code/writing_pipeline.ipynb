{
 "cells": [
  {
   "cell_type": "code",
   "execution_count": 13,
   "metadata": {
    "collapsed": false
   },
   "outputs": [
    {
     "name": "stdout",
     "output_type": "stream",
     "text": [
      "[ True  True  True  True  True  True  True  True  True  True False  True\n",
      "  True  True  True  True  True  True  True  True  True  True  True  True\n",
      "  True  True  True  True  True  True  True  True  True  True  True  True\n",
      "  True  True False  True  True  True  True False  True  True  True  True\n",
      " False  True  True  True  True  True  True  True  True  True  True  True\n",
      "  True  True  True  True  True  True  True  True  True  True  True  True\n",
      "  True  True  True]\n",
      "Accuracy of Decision Tree: 0.947\n"
     ]
    }
   ],
   "source": [
    "#!/usr/bin/python\n",
    "# -*- coding: utf-8 -*-\n",
    "\n",
    "'''\n",
    "Let's Write a Pipeline - Machine Learning Recipies #4\n",
    "December 15, 2016\n",
    "Coded by Meen Chul Kim\n",
    "\n",
    "Note:\n",
    "1. Partition a data set into two parts, traning and testing.\n",
    "2. Select, build, and train a classifier\n",
    "    (Trainig is a process of adjusting the parameters of a model).\n",
    "3. Evaluate the model.    \n",
    "4. Visit http://playground.tensorflow.org for Deep Learning\n",
    "'''\n",
    "\n",
    "from sklearn import datasets\n",
    "from sklearn.cross_validation import train_test_split\n",
    "from sklearn import tree\n",
    "from sklearn.neighbors import KNeighborsClassifier\n",
    "from sklearn.metrics import accuracy_score\n",
    "\n",
    "\n",
    "# Import a data set\n",
    "iris = datasets.load_iris()\n",
    "X = iris.data\n",
    "y = iris.target\n",
    "\n",
    "# Partition the data set\n",
    "X_train, X_test, y_train, y_test = train_test_split(X, y, test_size=.5)\n",
    "\n",
    "# Build and train a Decision Tree classifier with the training data\n",
    "tree_clf = tree.DecisionTreeClassifier()\n",
    "tree_clf = tree_clf.fit(X_train, y_train)\n",
    "\n",
    "# Predict with the testing data\n",
    "tree_predictions = tree_clf.predict(X_test)\n",
    "print tree_predictions == y_test\n",
    "\n",
    "# Use accuracy to evaluate the classifier\n",
    "print 'Accuracy of Decision Tree: %.3f' % accuracy_score(y_test, tree_predictions)"
   ]
  },
  {
   "cell_type": "code",
   "execution_count": 14,
   "metadata": {
    "collapsed": false
   },
   "outputs": [
    {
     "name": "stdout",
     "output_type": "stream",
     "text": [
      "[ True  True  True  True  True  True  True  True  True  True  True  True\n",
      "  True  True  True  True  True  True  True  True  True  True  True  True\n",
      "  True  True  True  True  True  True False  True  True  True  True  True\n",
      "  True  True  True  True  True  True  True False  True  True  True  True\n",
      "  True  True  True  True  True  True  True  True  True  True  True  True\n",
      "  True  True  True  True  True  True  True  True  True  True  True  True\n",
      "  True  True  True]\n",
      "Accuracy of kNN: 0.973\n"
     ]
    }
   ],
   "source": [
    "# Build and train a kNN classifier with the training data\n",
    "knn_clf = KNeighborsClassifier()\n",
    "knn_clf = knn_clf.fit(X_train, y_train)\n",
    "\n",
    "# Predict with the testing data\n",
    "knn_predictions = knn_clf.predict(X_test)\n",
    "print knn_predictions == y_test\n",
    "\n",
    "# Use accuracy to evaluate the classifier\n",
    "print 'Accuracy of kNN: %.3f' % accuracy_score(y_test, knn_predictions)"
   ]
  },
  {
   "cell_type": "code",
   "execution_count": null,
   "metadata": {
    "collapsed": true
   },
   "outputs": [],
   "source": []
  }
 ],
 "metadata": {
  "kernelspec": {
   "display_name": "Python [conda root]",
   "language": "python",
   "name": "conda-root-py"
  },
  "language_info": {
   "codemirror_mode": {
    "name": "ipython",
    "version": 2
   },
   "file_extension": ".py",
   "mimetype": "text/x-python",
   "name": "python",
   "nbconvert_exporter": "python",
   "pygments_lexer": "ipython2",
   "version": "2.7.12"
  }
 },
 "nbformat": 4,
 "nbformat_minor": 1
}
