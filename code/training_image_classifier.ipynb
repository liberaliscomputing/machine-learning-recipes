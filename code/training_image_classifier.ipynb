{
 "cells": [
  {
   "cell_type": "code",
   "execution_count": null,
   "metadata": {
    "collapsed": true
   },
   "outputs": [],
   "source": [
    "#!/usr/bin/python\n",
    "# -*- coding: utf-8 -*-\n",
    "\n",
    "'''\n",
    "Train an Image Classifier with TensorFlow for Poets - Machine Learning Recipies #6\n",
    "December 19, 2016\n",
    "Coded by Meen Chul Kim\n",
    "\n",
    "Resources:\n",
    "TensorFlow for Poets Codelab: https://goo.gl/QTwZ3v\n",
    "Google’s Udacity class on Deep Learning: https://goo.gl/iRqXsy\n",
    "TensorFlow tutorial: https://goo.gl/0Oz7B5\n",
    "Google Research blog on Inception: https://goo.gl/CSrfJ1\n",
    "'''"
   ]
  }
 ],
 "metadata": {
  "anaconda-cloud": {},
  "kernelspec": {
   "display_name": "Python [conda root]",
   "language": "python",
   "name": "conda-root-py"
  },
  "language_info": {
   "codemirror_mode": {
    "name": "ipython",
    "version": 2
   },
   "file_extension": ".py",
   "mimetype": "text/x-python",
   "name": "python",
   "nbconvert_exporter": "python",
   "pygments_lexer": "ipython2",
   "version": "2.7.12"
  }
 },
 "nbformat": 4,
 "nbformat_minor": 1
}
