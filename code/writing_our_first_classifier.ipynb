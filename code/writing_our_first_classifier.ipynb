{
 "cells": [
  {
   "cell_type": "code",
   "execution_count": 13,
   "metadata": {
    "collapsed": false
   },
   "outputs": [
    {
     "name": "stdout",
     "output_type": "stream",
     "text": [
      "Accuracy of kNN: 0.907\n"
     ]
    }
   ],
   "source": [
    "#!/usr/bin/python\n",
    "# -*- coding: utf-8 -*-\n",
    "\n",
    "'''\n",
    "Writing Our First Classifier - Machine Learning Recipies #5\n",
    "December 19, 2016\n",
    "Coded by Meen Chul Kim\n",
    "\n",
    "Pros:\n",
    "1. Relatively simple\n",
    "\n",
    "Cons:\n",
    "1. Computationally intensive\n",
    "2. Hard to represent relationships between features\n",
    "'''\n",
    "\n",
    "%matplotlib inline\n",
    "\n",
    "from scipy.spatial import distance\n",
    "from sklearn import datasets\n",
    "from sklearn.cross_validation import train_test_split\n",
    "from sklearn.metrics import accuracy_score\n",
    "\n",
    "\n",
    "# Define a euclidian distance fuction\n",
    "def euc(a, b):\n",
    "    return distance.euclidean(a, b)\n",
    "\n",
    "# Define our own kNN classifier\n",
    "class ScrappyKNeighborsClassifier():\n",
    "    def fit(self, X_train, y_train):\n",
    "        self.X_train = X_train\n",
    "        self.y_train = y_train\n",
    "    \n",
    "    def predict(self, X_test):\n",
    "        predictions = []\n",
    "        for row in X_test:\n",
    "            label = self.closest(row)\n",
    "            predictions.append(label)\n",
    "        return predictions\n",
    "    \n",
    "    def closest(self, row):\n",
    "        best_dist = euc(row, self.X_train[0])\n",
    "        best_index = 0\n",
    "        for i in range(1, len(self.X_train)):\n",
    "            dist = euc(row, self.X_train[i])\n",
    "            if dist < best_dist:\n",
    "                best_dist = dist\n",
    "                best_index = i\n",
    "        return self.y_train[best_index]\n",
    "\n",
    "# Load the iris data set\n",
    "iris = datasets.load_iris()\n",
    "\n",
    "# Split the data set into inputs and labels\n",
    "X = iris.data\n",
    "y = iris.target\n",
    "\n",
    "# Split the data set into training set and testing set\n",
    "X_train, X_test, y_train, y_test = train_test_split(X, y, test_size=.5)\n",
    "\n",
    "# Build and train a scrappy kNN classifier with the training data\n",
    "knn_clf = ScrappyKNeighborsClassifier()\n",
    "knn_clf.fit(X_train, y_train)\n",
    "\n",
    "# Predict with the testing data\n",
    "knn_predictions = knn_clf.predict(X_test)\n",
    "\n",
    "# Use accuracy to evaluate the classifier\n",
    "print 'Accuracy of kNN: %.3f' % accuracy_score(y_test, knn_predictions)"
   ]
  },
  {
   "cell_type": "code",
   "execution_count": null,
   "metadata": {
    "collapsed": true
   },
   "outputs": [],
   "source": []
  }
 ],
 "metadata": {
  "anaconda-cloud": {},
  "kernelspec": {
   "display_name": "Python [conda root]",
   "language": "python",
   "name": "conda-root-py"
  },
  "language_info": {
   "codemirror_mode": {
    "name": "ipython",
    "version": 2
   },
   "file_extension": ".py",
   "mimetype": "text/x-python",
   "name": "python",
   "nbconvert_exporter": "python",
   "pygments_lexer": "ipython2",
   "version": "2.7.12"
  }
 },
 "nbformat": 4,
 "nbformat_minor": 1
}
